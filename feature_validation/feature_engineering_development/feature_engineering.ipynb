{
 "cells": [
  {
   "cell_type": "markdown",
   "metadata": {},
   "source": [
    "Basic file reading and data exploration"
   ]
  },
  {
   "cell_type": "code",
   "execution_count": 1,
   "metadata": {},
   "outputs": [
    {
     "name": "stdout",
     "output_type": "stream",
     "text": [
      "File keys <KeysViewHDF5 ['burr_change', 'data', 'force', 'metadata', 'voxels_removed']>\n",
      "<class 'h5py._hl.files.File'>\n"
     ]
    }
   ],
   "source": [
    "import h5py\n",
    "import numpy as np\n",
    "import math\n",
    "from scipy.spatial.transform import Rotation as R\n",
    "\n",
    "# fname = '../data/d4/20220302_131424.hdf5'\n",
    "# fname = '../data/20220408_191041.hdf5'\n",
    "fname = '../data/20220408_210049.hdf5' # 3 strokes\n",
    "# fname = '../data/20220409_184944.hdf5' # perpendicular drill angle\n",
    "# fname = '../data/20220409_185037.hdf5' # varying drill angle\n",
    "\n",
    "# fname = '../Angles/45deg.hdf5' # 45 degree drill angle\n",
    "# fname = '../Angles/90deg.hdf5' # 90 degree drill angle\n",
    "# fname = '../Angles/random.hdf5' # random drill angle\n",
    "\n",
    "# fname = '../Strokes/zero_strokes.hdf5' # 0 strokes\n",
    "\n",
    "f = h5py.File(fname, 'r')\n",
    "print('File keys', f.keys())\n",
    "print(type(f))"
   ]
  },
  {
   "cell_type": "code",
   "execution_count": 2,
   "metadata": {},
   "outputs": [
    {
     "name": "stdout",
     "output_type": "stream",
     "text": [
      "Data keys <KeysViewHDF5 ['depth', 'l_img', 'pose_main_camera', 'pose_mastoidectomy_drill', 'r_img', 'segm', 'time']>\n",
      "(127, 7)\n",
      "(127, 480, 640, 3)\n",
      "(127,)\n",
      "Force keys <KeysViewHDF5 ['time_stamp', 'wrench']>\n",
      "(36771,)\n",
      "(36771, 3)\n",
      "Voxels Removed keys <KeysViewHDF5 ['time_stamp', 'voxel_color', 'voxel_removed']>\n",
      "(13657,)\n",
      "(13657, 4)\n",
      "(13657, 3)\n",
      "True\n"
     ]
    }
   ],
   "source": [
    "data = f['data']\n",
    "print('Data keys', data.keys())\n",
    "# print((data['depth'][()]).shape)\n",
    "# print((data['l_img'][()]).shape)\n",
    "# print((data['pose_main_camera'][()]).shape)\n",
    "print((data['pose_mastoidectomy_drill'][()]).shape)\n",
    "# print((data['r_img'][()]).shape)\n",
    "print((data['segm'][()]).shape)\n",
    "print((data['time'][()]).shape)\n",
    "\n",
    "# Not necessary for our purposes\n",
    "\n",
    "# b_cg = f['burr_change']\n",
    "# print('Burr Change keys', b_cg.keys())\n",
    "\n",
    "# meta = f['metadata']\n",
    "# print('Metadata keys', meta.keys())\n",
    "# print((meta['README'][()]))\n",
    "\n",
    "force = f['force']\n",
    "print('Force keys', force.keys())\n",
    "print((force['time_stamp'][()]).shape)\n",
    "print((force['wrench'][()]).shape)\n",
    "\n",
    "v_rm = f['voxels_removed']\n",
    "print('Voxels Removed keys', v_rm.keys())\n",
    "print((v_rm['time_stamp'][()]).shape)\n",
    "print((v_rm['voxel_color'][()]).shape)\n",
    "print((v_rm['voxel_removed'][()]).shape)\n",
    "\n",
    "# # Time differences between either time stamps unequal\n",
    "\n",
    "# print((data['time'][1]) - (data['time'][0]))\n",
    "# print((data['time'][435]) - (data['time'][434]))\n",
    "# print((v_rm['time_stamp'][1]) - (v_rm['time_stamp'][0]))\n",
    "# print((v_rm['time_stamp'][435]) - (v_rm['time_stamp'][434]))\n",
    "\n",
    "# print(min(data['time'][()]), max(data['time'][()]))\n",
    "\n",
    "print(min(data['time'][()]) == min(data['time'][()]))"
   ]
  },
  {
   "cell_type": "markdown",
   "metadata": {},
   "source": [
    "Function implementation"
   ]
  },
  {
   "cell_type": "code",
   "execution_count": 3,
   "metadata": {},
   "outputs": [
    {
     "name": "stdout",
     "output_type": "stream",
     "text": [
      "[0, 0, 0, 0, 0, 0, 0, 0, 0, 0, 0, 1, 0, 0, 0, 0, 0, 0, 0, 0, 0, 0, 0, 0, 0, 0, 0, 0, 0, 0, 0, 0, 0, 0, 0, 0, 0, 0, 0, 0, 1, 0, 0, 0, 0, 0, 0, 0, 0, 0, 0, 0, 0, 0, 0, 0, 0, 0, 0, 0, 0, 0, 0, 0, 0, 0, 0, 0, 0, 0, 0, 0, 0, 0, 0, 0, 0, 0, 0, 0, 0, 0, 0, 0, 0, 0, 0, 1, 0, 0, 0, 0, 0, 0, 0, 0, 0, 0, 0, 0, 0, 0, 0, 0, 0, 0, 0, 0, 0, 0, 0, 0, 0, 0, 0, 0, 0, 0, 0, 0, 0, 0, 0, 0, 0, 0, 0]\n"
     ]
    }
   ],
   "source": [
    "def get_strokes(stream: np.ndarray, timepts: np.ndarray, k=6):\n",
    "    stream = stream[:, :3]\n",
    "    X_P = []\n",
    "\n",
    "    # Compute k-cosines for each pivot point\n",
    "    for j,P in enumerate(stream):\n",
    "        \n",
    "        # Cannot consider edge points as central k's\n",
    "        if (j - k < 0) or (j + k >= stream.shape[0]):\n",
    "            continue\n",
    "\n",
    "        P_a = stream[j - k]\n",
    "        P_c = stream[j + k]\n",
    "\n",
    "        k_cos = np.dot(P_a, P_c) / (np.linalg.norm(P_a) * np.linalg.norm(P_c))\n",
    "        k_cos = max(min(k_cos, 1), -1)\n",
    "        X_P.append(180 - (math.acos(k_cos) * (180/np.pi)))\n",
    "\n",
    "    # Detect pivot points\n",
    "    mu = np.mean(X_P)\n",
    "    sig = np.std(X_P)\n",
    "\n",
    "    for i in range(k):\n",
    "        \n",
    "        X_P.insert(0, mu)\n",
    "        X_P.append(mu)\n",
    "\n",
    "    X_P = np.array(X_P)\n",
    "\n",
    "    F_c = [1 if x_P > mu + sig else 0 for x_P in X_P]\n",
    "\n",
    "    j = 0\n",
    "    for i in range(1, len(F_c)):\n",
    "\n",
    "        if F_c[i] == 1 and F_c[i-1] == 0:\n",
    "            j += 1\n",
    "        elif sum(F_c[i:i+k]) == 0 and j != 0:\n",
    "            ind = math.floor(j/2)\n",
    "            F_c[i-j:i] = [0] * j\n",
    "            F_c[i-ind] = 1\n",
    "            j = 0\n",
    "        elif j != 0:\n",
    "            j += 1\n",
    "\n",
    "    st = np.insert(timepts[[s == 1 for s in F_c]], 0, min(timepts))\n",
    "\n",
    "    return F_c, st\n",
    "\n",
    "strokes, stroke_times = get_strokes(data['pose_mastoidectomy_drill'][()], data['time'][()])"
   ]
  },
  {
   "cell_type": "code",
   "execution_count": 4,
   "metadata": {},
   "outputs": [],
   "source": [
    "def stats_per_stroke(stroke_arr: np.ndarray):\n",
    "    \n",
    "    mean = np.mean(stroke_arr)\n",
    "    med_ = np.median(stroke_arr)\n",
    "    max_ = np.max(stroke_arr)\n",
    "\n",
    "    return mean, med_, max_"
   ]
  },
  {
   "cell_type": "code",
   "execution_count": 5,
   "metadata": {},
   "outputs": [
    {
     "data": {
      "text/plain": [
       "array([0.        , 0.        , 0.09622728])"
      ]
     },
     "execution_count": 5,
     "metadata": {},
     "output_type": "execute_result"
    }
   ],
   "source": [
    "def stroke_force(strokes: np.ndarray, stroke_times: np.ndarray,\n",
    "                force_stream: np.ndarray, force_times: np.ndarray):\n",
    "\n",
    "    avg_stroke_force = []\n",
    "    for i in range(sum(strokes)):\n",
    "\n",
    "        stroke_mask = [ft >= stroke_times[i] and ft < stroke_times[i+1] for ft in force_times]\n",
    "        stroke_forces = np.linalg.norm(force_stream[stroke_mask], axis=1)\n",
    "        avg_stroke_force.append(np.mean(stroke_forces))\n",
    "\n",
    "    return np.array(avg_stroke_force)\n",
    "    \n",
    "\n",
    "stroke_force(strokes, stroke_times, force['wrench'][()], force['time_stamp'][()])"
   ]
  },
  {
   "cell_type": "code",
   "execution_count": 6,
   "metadata": {},
   "outputs": [
    {
     "data": {
      "text/plain": [
       "array([1.96817789e-05, 3.67763321e-02, 7.00008367e-02])"
      ]
     },
     "execution_count": 6,
     "metadata": {},
     "output_type": "execute_result"
    }
   ],
   "source": [
    "def stroke_length(strokes: np.ndarray, stream: np.ndarray):\n",
    "\n",
    "    stream = stream[:, :3]\n",
    "    \n",
    "    lens = []\n",
    "    inds = np.insert(np.where(strokes == 1), 0, 0)\n",
    "    for i in range(sum(strokes)):\n",
    "        stroke_len = 0\n",
    "        curr_stroke = stream[inds[i]:inds[i+1]]\n",
    "        for j in range(1, len(curr_stroke)):\n",
    "\n",
    "            stroke_len += np.linalg.norm(curr_stroke[j-1] - curr_stroke[j])\n",
    "\n",
    "        lens.append(stroke_len)\n",
    "\n",
    "    return np.array(lens)\n",
    "\n",
    "stroke_length(np.array(strokes), data['pose_mastoidectomy_drill'][()])"
   ]
  },
  {
   "cell_type": "code",
   "execution_count": 7,
   "metadata": {},
   "outputs": [
    {
     "data": {
      "text/plain": [
       "array([    0.        ,     0.        , 93356.02700918])"
      ]
     },
     "execution_count": 7,
     "metadata": {},
     "output_type": "execute_result"
    }
   ],
   "source": [
    "def bone_removal_rate(strokes: np.ndarray, stroke_times: np.ndarray,\n",
    "                        stream: np.ndarray, voxel_times: np.ndarray):\n",
    "    \n",
    "    vox_rm = []\n",
    "    for i in range(sum(strokes)):\n",
    "\n",
    "        stroke_voxels = [vt >= stroke_times[i] and vt < stroke_times[i+1] for vt in voxel_times]\n",
    "        vox_rm.append(sum(stroke_voxels))\n",
    "\n",
    "    rate = np.divide(np.array(vox_rm), stroke_length(np.array(strokes), stream))\n",
    "\n",
    "    return rate\n",
    "\n",
    "bone_removal_rate(strokes, stroke_times, data['pose_mastoidectomy_drill'][()], v_rm['time_stamp'][()])"
   ]
  },
  {
   "cell_type": "code",
   "execution_count": 8,
   "metadata": {},
   "outputs": [
    {
     "data": {
      "text/plain": [
       "17.348564624786377"
      ]
     },
     "execution_count": 8,
     "metadata": {},
     "output_type": "execute_result"
    }
   ],
   "source": [
    "def procedure_duration(timepts: np.ndarray):\n",
    "    return (max(timepts) - min(timepts))\n",
    "\n",
    "procedure_duration(v_rm['time_stamp'][()])"
   ]
  },
  {
   "cell_type": "code",
   "execution_count": 9,
   "metadata": {},
   "outputs": [
    {
     "name": "stderr",
     "output_type": "stream",
     "text": [
      "/Users/alexandraszewc/opt/anaconda3/lib/python3.8/site-packages/numpy/core/fromnumeric.py:3419: RuntimeWarning: Mean of empty slice.\n",
      "  return _methods._mean(a, axis=axis, dtype=dtype,\n",
      "/Users/alexandraszewc/opt/anaconda3/lib/python3.8/site-packages/numpy/core/_methods.py:188: RuntimeWarning: invalid value encountered in double_scalars\n",
      "  ret = ret.dtype.type(ret / rcount)\n"
     ]
    },
    {
     "data": {
      "text/plain": [
       "array([42.13148227])"
      ]
     },
     "execution_count": 9,
     "metadata": {},
     "output_type": "execute_result"
    }
   ],
   "source": [
    "import matplotlib.pyplot as plt\n",
    "\n",
    "def drill_orientation(strokes: np.ndarray, stroke_times: np.ndarray,\n",
    "                      stream: np.ndarray, timepts: np.ndarray,\n",
    "                      force_stream: np.ndarray, force_times: np.ndarray):\n",
    "\n",
    "    angles = []\n",
    "    angle_times = []\n",
    "    normals = []\n",
    "    drill_vecs = []\n",
    "\n",
    "    forces = force_stream[np.linalg.norm(force_stream, axis=1) > 0]\n",
    "    med = np.median(np.linalg.norm(forces, axis=1))\n",
    "\n",
    "    for i,t in enumerate(timepts):\n",
    "        ind = np.argmin(np.abs(force_times - t))\n",
    "        if np.isclose(np.abs(force_times[ind] - t), 0) and np.linalg.norm(force_stream[ind]) > med:\n",
    "\n",
    "            angle_times.append(t)\n",
    "\n",
    "            normal = force_stream[ind]\n",
    "            normal = np.divide(normal, np.linalg.norm(normal))\n",
    "            normals.append(normal)\n",
    "\n",
    "            v = R.from_quat(stream[i, 3:]).apply([-1,0,0])\n",
    "            v = np.divide(v, np.linalg.norm(v))\n",
    "            drill_vecs.append(v)\n",
    "\n",
    "    for i, v in enumerate(drill_vecs):\n",
    "\n",
    "        n = normals[i]\n",
    "\n",
    "        angle = (np.arccos(np.clip(np.dot(n, v), -1.0, 1.0)) * (180/np.pi))\n",
    "        if angle > 90:\n",
    "            angle = 180 - angle\n",
    "\n",
    "        angles.append(90 - angle)\n",
    "\n",
    "    avg_stroke_angle = []\n",
    "    for i in range(sum(strokes)):\n",
    "\n",
    "        stroke_mask = [at >= stroke_times[i] and at < stroke_times[i+1] for at in angle_times]\n",
    "        stroke_angles = np.array(angles)[stroke_mask]\n",
    "        avg_stroke_angle.append(np.mean(stroke_angles))\n",
    "\n",
    "    A = np.array(avg_stroke_angle)\n",
    "    avg_stroke_angle = A[~np.isnan(A)]\n",
    "    return avg_stroke_angle\n",
    "\n",
    "drill_orientation(strokes, stroke_times, data['pose_mastoidectomy_drill'][()], data['time'][()], force['wrench'][()], force['time_stamp'][()])"
   ]
  },
  {
   "cell_type": "code",
   "execution_count": 10,
   "metadata": {},
   "outputs": [
    {
     "ename": "FileNotFoundError",
     "evalue": "[Errno 2] No such file or directory: '/Users/alexandraszewc/Documents/Programming/vr-skill-analysis/feature_validation/feature_engineering_development/EdtReader/EdtReader.h'",
     "output_type": "error",
     "traceback": [
      "\u001b[0;31m---------------------------------------------------------------------------\u001b[0m",
      "\u001b[0;31mFileNotFoundError\u001b[0m                         Traceback (most recent call last)",
      "\u001b[0;32m<ipython-input-10-55a9a805314b>\u001b[0m in \u001b[0;36m<module>\u001b[0;34m\u001b[0m\n\u001b[1;32m      7\u001b[0m \u001b[0mthis_dir\u001b[0m \u001b[0;34m=\u001b[0m \u001b[0mpathlib\u001b[0m\u001b[0;34m.\u001b[0m\u001b[0mPath\u001b[0m\u001b[0;34m(\u001b[0m\u001b[0;34m)\u001b[0m\u001b[0;34m.\u001b[0m\u001b[0mabsolute\u001b[0m\u001b[0;34m(\u001b[0m\u001b[0;34m)\u001b[0m\u001b[0;34m\u001b[0m\u001b[0;34m\u001b[0m\u001b[0m\n\u001b[1;32m      8\u001b[0m \u001b[0mh_file_name\u001b[0m \u001b[0;34m=\u001b[0m \u001b[0mthis_dir\u001b[0m \u001b[0;34m/\u001b[0m \u001b[0;34m\"EdtReader/EdtReader.h\"\u001b[0m\u001b[0;34m\u001b[0m\u001b[0;34m\u001b[0m\u001b[0m\n\u001b[0;32m----> 9\u001b[0;31m \u001b[0;32mwith\u001b[0m \u001b[0mopen\u001b[0m\u001b[0;34m(\u001b[0m\u001b[0mh_file_name\u001b[0m\u001b[0;34m)\u001b[0m \u001b[0;32mas\u001b[0m \u001b[0mh_file\u001b[0m\u001b[0;34m:\u001b[0m\u001b[0;34m\u001b[0m\u001b[0;34m\u001b[0m\u001b[0m\n\u001b[0m\u001b[1;32m     10\u001b[0m     \u001b[0mffi\u001b[0m\u001b[0;34m.\u001b[0m\u001b[0mcdef\u001b[0m\u001b[0;34m(\u001b[0m\u001b[0mh_file\u001b[0m\u001b[0;34m.\u001b[0m\u001b[0mread\u001b[0m\u001b[0;34m(\u001b[0m\u001b[0;34m)\u001b[0m\u001b[0;34m)\u001b[0m\u001b[0;34m\u001b[0m\u001b[0;34m\u001b[0m\u001b[0m\n\u001b[1;32m     11\u001b[0m \u001b[0;34m\u001b[0m\u001b[0m\n",
      "\u001b[0;31mFileNotFoundError\u001b[0m: [Errno 2] No such file or directory: '/Users/alexandraszewc/Documents/Programming/vr-skill-analysis/feature_validation/feature_engineering_development/EdtReader/EdtReader.h'"
     ]
    }
   ],
   "source": [
    "import cffi\n",
    "import pathlib\n",
    "\n",
    "\"\"\" Build the CFFI Python bindings \"\"\"\n",
    "ffi = cffi.FFI()\n",
    "\n",
    "this_dir = pathlib.Path().absolute()\n",
    "h_file_name = this_dir / \"EdtReader/EdtReader.h\"\n",
    "with open(h_file_name) as h_file:\n",
    "    ffi.cdef(h_file.read())\n",
    "\n",
    "ffi.set_source(\n",
    "    \"EDTread\",\n",
    "    # Since you're calling a fully-built library directly, no custom source\n",
    "    # is necessary. You need to include the .h files, though, because behind\n",
    "    # the scenes cffi generates a .c file that contains a Python-friendly\n",
    "    # wrapper around each of the functions.\n",
    "    '#include \"EdtReader.h\"',\n",
    "    # The important thing is to include the pre-built lib in the list of\n",
    "    # libraries you're linking against:\n",
    "    libraries=[\"EdtReader\"],\n",
    "    library_dirs=[this_dir.as_posix()],\n",
    "    extra_link_args=[\"-Wl,-rpath,.\"],\n",
    ")\n",
    "\n",
    "ffi.compile()"
   ]
  },
  {
   "cell_type": "code",
   "execution_count": null,
   "metadata": {},
   "outputs": [],
   "source": [
    "import EDTread"
   ]
  }
 ],
 "metadata": {
  "interpreter": {
   "hash": "ba4b06a3f1ced55e901636c89005dc280628d44375424d70300ad05d2cacd8bb"
  },
  "kernelspec": {
   "display_name": "Python 3.8.8 ('base')",
   "language": "python",
   "name": "python3"
  },
  "language_info": {
   "codemirror_mode": {
    "name": "ipython",
    "version": 3
   },
   "file_extension": ".py",
   "mimetype": "text/x-python",
   "name": "python",
   "nbconvert_exporter": "python",
   "pygments_lexer": "ipython3",
   "version": "3.8.8"
  },
  "orig_nbformat": 4
 },
 "nbformat": 4,
 "nbformat_minor": 2
}
