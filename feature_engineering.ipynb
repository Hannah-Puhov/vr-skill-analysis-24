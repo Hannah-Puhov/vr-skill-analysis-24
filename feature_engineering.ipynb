{
 "cells": [
  {
   "cell_type": "markdown",
   "metadata": {},
   "source": [
    "Basic file reading and data exploration"
   ]
  },
  {
   "cell_type": "code",
   "execution_count": 1,
   "metadata": {},
   "outputs": [
    {
     "name": "stdout",
     "output_type": "stream",
     "text": [
      "File keys <KeysViewHDF5 ['burr_change', 'data', 'force', 'metadata', 'voxels_removed']>\n",
      "<class 'h5py._hl.files.File'>\n"
     ]
    }
   ],
   "source": [
    "import h5py\n",
    "import numpy as np\n",
    "import math\n",
    "from scipy.spatial.transform import Rotation as R\n",
    "\n",
    "# fname = 'd4/20220302_131424.hdf5'\n",
    "# fname = '20220408_191041.hdf5'\n",
    "# fname = '20220408_210049.hdf5' # 3 strokes\n",
    "# fname = '20220409_184944.hdf5' # perpendicular drill angle\n",
    "fname = '20220409_185037.hdf5' # varying drill angle\n",
    "\n",
    "f = h5py.File(fname, 'r')\n",
    "print('File keys', f.keys())\n",
    "print(type(f))"
   ]
  },
  {
   "cell_type": "code",
   "execution_count": 2,
   "metadata": {},
   "outputs": [
    {
     "name": "stdout",
     "output_type": "stream",
     "text": [
      "Data keys <KeysViewHDF5 ['depth', 'l_img', 'pose_main_camera', 'pose_mastoidectomy_drill', 'r_img', 'segm', 'time']>\n",
      "(100, 7)\n",
      "(100, 480, 640, 3)\n",
      "(100,)\n",
      "Force keys <KeysViewHDF5 ['time_stamp', 'wrench']>\n",
      "(43882,)\n",
      "(43882, 3)\n",
      "Voxels Removed keys <KeysViewHDF5 ['time_stamp', 'voxel_color', 'voxel_removed']>\n",
      "(20057,)\n",
      "(20057, 4)\n",
      "(20057, 3)\n",
      "True\n"
     ]
    }
   ],
   "source": [
    "data = f['data']\n",
    "print('Data keys', data.keys())\n",
    "# print((data['depth'][()]).shape)\n",
    "# print((data['l_img'][()]).shape)\n",
    "# print((data['pose_main_camera'][()]).shape)\n",
    "print((data['pose_mastoidectomy_drill'][()]).shape)\n",
    "# print((data['r_img'][()]).shape)\n",
    "print((data['segm'][()]).shape)\n",
    "print((data['time'][()]).shape)\n",
    "\n",
    "# Not necessary for our purposes\n",
    "\n",
    "# b_cg = f['burr_change']\n",
    "# print('Burr Change keys', b_cg.keys())\n",
    "\n",
    "# meta = f['metadata']\n",
    "# print('Metadata keys', meta.keys())\n",
    "# print((meta['README'][()]))\n",
    "\n",
    "force = f['force']\n",
    "print('Force keys', force.keys())\n",
    "print((force['time_stamp'][()]).shape)\n",
    "print((force['wrench'][()]).shape)\n",
    "\n",
    "v_rm = f['voxels_removed']\n",
    "print('Voxels Removed keys', v_rm.keys())\n",
    "print((v_rm['time_stamp'][()]).shape)\n",
    "print((v_rm['voxel_color'][()]).shape)\n",
    "print((v_rm['voxel_removed'][()]).shape)\n",
    "\n",
    "# # Time differences between either time stamps unequal\n",
    "\n",
    "# print((data['time'][1]) - (data['time'][0]))\n",
    "# print((data['time'][435]) - (data['time'][434]))\n",
    "# print((v_rm['time_stamp'][1]) - (v_rm['time_stamp'][0]))\n",
    "# print((v_rm['time_stamp'][435]) - (v_rm['time_stamp'][434]))\n",
    "\n",
    "# print(min(data['time'][()]), max(data['time'][()]))\n",
    "\n",
    "print(min(data['time'][()]) == min(data['time'][()]))"
   ]
  },
  {
   "cell_type": "markdown",
   "metadata": {},
   "source": [
    "Function implementation"
   ]
  },
  {
   "cell_type": "code",
   "execution_count": 3,
   "metadata": {},
   "outputs": [],
   "source": [
    "def get_strokes(stream: np.ndarray, timepts: np.ndarray, k=6):\n",
    "    stream = stream[:, :3]\n",
    "    X_P = []\n",
    "\n",
    "    # Compute k-cosines for each pivot point\n",
    "    for j,P in enumerate(stream):\n",
    "        \n",
    "        # Cannot consider edge points as central k's\n",
    "        if (j - k < 0) or (j + k >= stream.shape[0]):\n",
    "            continue\n",
    "\n",
    "        P_a = stream[j - k]\n",
    "        P_c = stream[j + k]\n",
    "\n",
    "        k_cos = np.dot(P_a, P_c) / (np.linalg.norm(P_a) * np.linalg.norm(P_c))\n",
    "        k_cos = max(min(k_cos, 1), -1)\n",
    "        X_P.append(180 - (math.acos(k_cos) * (180/np.pi)))\n",
    "\n",
    "    # Detect pivot points\n",
    "    mu = np.mean(X_P)\n",
    "    sig = np.std(X_P)\n",
    "\n",
    "    for i in range(k):\n",
    "        \n",
    "        X_P.insert(0, mu)\n",
    "        X_P.append(mu)\n",
    "\n",
    "    X_P = np.array(X_P)\n",
    "\n",
    "    F_c = [1 if x_P > mu + sig else 0 for x_P in X_P]\n",
    "\n",
    "    j = 0\n",
    "    for i in range(1, len(F_c)):\n",
    "\n",
    "        if F_c[i] == 1 and F_c[i-1] == 0:\n",
    "            j += 1\n",
    "        elif sum(F_c[i:i+k]) == 0 and j != 0:\n",
    "            ind = math.floor(j/2)\n",
    "            F_c[i-j:i] = [0] * j\n",
    "            F_c[i-ind] = 1\n",
    "            j = 0\n",
    "        elif j != 0:\n",
    "            j += 1\n",
    "\n",
    "    st = np.insert(timepts[[s == 1 for s in F_c]], 0, min(timepts))\n",
    "\n",
    "    return F_c, st\n",
    "\n",
    "strokes, stroke_times = get_strokes(data['pose_mastoidectomy_drill'][()], data['time'][()])"
   ]
  },
  {
   "cell_type": "code",
   "execution_count": 4,
   "metadata": {},
   "outputs": [],
   "source": [
    "def stats_per_stroke(stroke_arr: np.ndarray):\n",
    "    \n",
    "    mean = np.mean(stroke_arr)\n",
    "    med_ = np.median(stroke_arr)\n",
    "    max_ = np.max(stroke_arr)\n",
    "\n",
    "    return mean, med_, max_"
   ]
  },
  {
   "cell_type": "code",
   "execution_count": 5,
   "metadata": {},
   "outputs": [
    {
     "data": {
      "text/plain": [
       "array([0.23464485, 0.61514681, 0.47998663])"
      ]
     },
     "execution_count": 5,
     "metadata": {},
     "output_type": "execute_result"
    }
   ],
   "source": [
    "def stroke_force(strokes: np.ndarray, stroke_times: np.ndarray,\n",
    "                force_stream: np.ndarray, force_times: np.ndarray):\n",
    "\n",
    "    avg_stroke_force = []\n",
    "    for i in range(sum(strokes)):\n",
    "\n",
    "        stroke_mask = [ft >= stroke_times[i] and ft < stroke_times[i+1] for ft in force_times]\n",
    "        stroke_forces = np.linalg.norm(force_stream[stroke_mask], axis=1)\n",
    "        avg_stroke_force.append(np.mean(stroke_forces))\n",
    "\n",
    "    return np.array(avg_stroke_force)\n",
    "    \n",
    "\n",
    "stroke_force(strokes, stroke_times, force['wrench'][()], force['time_stamp'][()])"
   ]
  },
  {
   "cell_type": "code",
   "execution_count": 6,
   "metadata": {},
   "outputs": [
    {
     "data": {
      "text/plain": [
       "array([0.12272328, 0.11159843, 0.0228806 ])"
      ]
     },
     "execution_count": 6,
     "metadata": {},
     "output_type": "execute_result"
    }
   ],
   "source": [
    "def stroke_length(strokes: np.ndarray, stream: np.ndarray):\n",
    "\n",
    "    stream = stream[:, :3]\n",
    "    \n",
    "    lens = []\n",
    "    inds = np.insert(np.where(strokes == 1), 0, 0)\n",
    "    for i in range(sum(strokes)):\n",
    "        stroke_len = 0\n",
    "        curr_stroke = stream[inds[i]:inds[i+1]]\n",
    "        for j in range(1, len(curr_stroke)):\n",
    "\n",
    "            stroke_len += np.linalg.norm(curr_stroke[j-1] - curr_stroke[j])\n",
    "\n",
    "        lens.append(stroke_len)\n",
    "\n",
    "    return np.array(lens)\n",
    "\n",
    "stroke_length(np.array(strokes), data['pose_mastoidectomy_drill'][()])"
   ]
  },
  {
   "cell_type": "code",
   "execution_count": 7,
   "metadata": {},
   "outputs": [
    {
     "data": {
      "text/plain": [
       "array([ 18855.4288647 ,  96461.92971425, 250212.00467123])"
      ]
     },
     "execution_count": 7,
     "metadata": {},
     "output_type": "execute_result"
    }
   ],
   "source": [
    "def bone_removal_rate(strokes: np.ndarray, stroke_times: np.ndarray,\n",
    "                        stream: np.ndarray, voxel_times: np.ndarray):\n",
    "    \n",
    "    vox_rm = []\n",
    "    for i in range(sum(strokes)):\n",
    "\n",
    "        stroke_voxels = [vt >= stroke_times[i] and vt < stroke_times[i+1] for vt in voxel_times]\n",
    "        vox_rm.append(sum(stroke_voxels))\n",
    "\n",
    "    rate = np.divide(np.array(vox_rm), stroke_length(np.array(strokes), stream))\n",
    "\n",
    "    return rate\n",
    "\n",
    "bone_removal_rate(strokes, stroke_times, data['pose_mastoidectomy_drill'][()], v_rm['time_stamp'][()])"
   ]
  },
  {
   "cell_type": "code",
   "execution_count": 8,
   "metadata": {},
   "outputs": [
    {
     "data": {
      "text/plain": [
       "43.95865249633789"
      ]
     },
     "execution_count": 8,
     "metadata": {},
     "output_type": "execute_result"
    }
   ],
   "source": [
    "def procedure_duration(timepts: np.ndarray):\n",
    "    return (max(timepts) - min(timepts))\n",
    "\n",
    "procedure_duration(data['time'][()])"
   ]
  },
  {
   "cell_type": "code",
   "execution_count": 9,
   "metadata": {},
   "outputs": [
    {
     "name": "stdout",
     "output_type": "stream",
     "text": [
      "28.689006273632835\n"
     ]
    },
    {
     "data": {
      "text/plain": [
       "[25.54635818587745,\n",
       " 20.14645994662682,\n",
       " 9.335613144616659,\n",
       " 44.053876184728395,\n",
       " 6.176036847103546,\n",
       " 12.956087376926419,\n",
       " 54.384082086796354,\n",
       " 7.5409324423904,\n",
       " 39.73540785162993,\n",
       " 29.939695216746742,\n",
       " 68.63760440357333,\n",
       " 65.76027871718426,\n",
       " 12.905140303660787,\n",
       " 33.83526152658561,\n",
       " 28.92871288732396,\n",
       " 61.44644971508029,\n",
       " 54.175627593654525,\n",
       " 32.599772537673985,\n",
       " 10.17910461146441,\n",
       " 49.87239389955912,\n",
       " 9.425798421241552,\n",
       " 43.351086290617715,\n",
       " 45.12050417293061,\n",
       " 22.966739818060063,\n",
       " 11.612575509173155,\n",
       " 1.21415240874569,\n",
       " 17.0208234730936,\n",
       " 3.2655528277877863,\n",
       " 34.5236899790975,\n",
       " 29.50537673042242,\n",
       " 25.837990924844703,\n",
       " 14.66226286855236,\n",
       " 18.797083608491576,\n",
       " 8.325542759840332,\n",
       " 8.066937632860515,\n",
       " 45.4472570114344,\n",
       " 7.622922806829919,\n",
       " 14.712989908010329,\n",
       " 35.444604886674924,\n",
       " 12.101214004607755,\n",
       " 74.98183513290186,\n",
       " 52.240025922532396,\n",
       " 14.222934632485135,\n",
       " 17.103230922914335,\n",
       " 23.671689545997154,\n",
       " 60.29457090775958]"
      ]
     },
     "execution_count": 9,
     "metadata": {},
     "output_type": "execute_result"
    }
   ],
   "source": [
    "def drill_orientation(stream: np.ndarray, timepts: np.ndarray,\n",
    "                      voxels: np.ndarray, voxel_times: np.ndarray):\n",
    "    \n",
    "    angles = []\n",
    "    for i,t in enumerate(timepts):\n",
    "        ind = np.argmin(np.abs(voxel_times - t))\n",
    "        if np.isclose(np.abs(voxel_times[ind] - t), 0):\n",
    "            # print(sum([np.isclose(np.abs(v - t), 0) for v in voxel_times]))\n",
    "            # if sum([np.isclose(v - t, 0) for v in voxel_times]) >= 3:\n",
    "            #     print(ind)\n",
    "            #     print('howdy')\n",
    "            #     return\n",
    "\n",
    "            # Just use three closest\n",
    "            ind2 = 0\n",
    "            ind3 = 0\n",
    "            if ind < len(voxel_times) - 2:\n",
    "                ind2 = ind+1\n",
    "                ind3 = ind+2\n",
    "            elif ind > 1:\n",
    "                ind2 = ind-1\n",
    "                ind3 = ind-2\n",
    "\n",
    "            x0, y0, z0 = voxels[ind]\n",
    "            x1, y1, z1 = voxels[ind2]\n",
    "            x2, y2, z2 = voxels[ind3]\n",
    "\n",
    "            ux, uy, uz = [x1-x0, y1-y0, z1-z0]\n",
    "            vx, vy, vz = [x2-x0, y2-y0, z2-z0]\n",
    "\n",
    "            u_cross_v = [uy*vz-uz*vy, uz*vx-ux*vz, ux*vy-uy*vx]\n",
    "            normal = np.array(u_cross_v)\n",
    "            # print(normal)\n",
    "            normal = np.divide(normal, np.linalg.norm(normal))\n",
    "            # print(R.from_quat(stream[i, 3:]).inv().apply(normal))\n",
    "\n",
    "            v = R.from_quat(stream[i, 3:]).apply([0, 1, 0.5])\n",
    "            v = np.divide(v, np.linalg.norm(v))\n",
    "            # print(v)\n",
    "            # print(voxels[ind])\n",
    "\n",
    "            angle = np.arccos(np.clip(np.dot(v, normal), -1.0, 1.0)) * (180/np.pi)\n",
    "            if angle > 90:\n",
    "                angle = 180 - angle\n",
    "            angles.append(90 - angle)\n",
    "\n",
    "    print(np.mean(angles))\n",
    "    return angles\n",
    "\n",
    "drill_orientation(data['pose_mastoidectomy_drill'][()], data['time'][()], v_rm['voxel_removed'][()], v_rm['time_stamp'][()])"
   ]
  }
 ],
 "metadata": {
  "interpreter": {
   "hash": "ba4b06a3f1ced55e901636c89005dc280628d44375424d70300ad05d2cacd8bb"
  },
  "kernelspec": {
   "display_name": "Python 3.8.8 ('base')",
   "language": "python",
   "name": "python3"
  },
  "language_info": {
   "codemirror_mode": {
    "name": "ipython",
    "version": 3
   },
   "file_extension": ".py",
   "mimetype": "text/x-python",
   "name": "python",
   "nbconvert_exporter": "python",
   "pygments_lexer": "ipython3",
   "version": "3.8.8"
  },
  "orig_nbformat": 4
 },
 "nbformat": 4,
 "nbformat_minor": 2
}
