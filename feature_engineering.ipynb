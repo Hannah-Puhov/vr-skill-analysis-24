{
 "cells": [
  {
   "cell_type": "markdown",
   "metadata": {},
   "source": [
    "Basic file reading and data exploration"
   ]
  },
  {
   "cell_type": "code",
   "execution_count": 142,
   "metadata": {},
   "outputs": [
    {
     "name": "stdout",
     "output_type": "stream",
     "text": [
      "File keys <KeysViewHDF5 ['burr_change', 'data', 'force', 'metadata', 'voxels_removed']>\n",
      "<class 'h5py._hl.files.File'>\n"
     ]
    }
   ],
   "source": [
    "import h5py\n",
    "import numpy as np\n",
    "import math\n",
    "\n",
    "# fname = 'd4/20220302_131424.hdf5'\n",
    "# fname = '20220408_191041.hdf5'\n",
    "fname = '20220408_210049.hdf5'\n",
    "f = h5py.File(fname, 'r')\n",
    "print('File keys', f.keys())\n",
    "print(type(f))"
   ]
  },
  {
   "cell_type": "code",
   "execution_count": 143,
   "metadata": {},
   "outputs": [
    {
     "name": "stdout",
     "output_type": "stream",
     "text": [
      "Data keys <KeysViewHDF5 ['depth', 'l_img', 'pose_main_camera', 'pose_mastoidectomy_drill', 'r_img', 'segm', 'time']>\n",
      "(127, 7)\n",
      "(127, 480, 640, 3)\n",
      "(127,)\n",
      "Voxels Removed keys <KeysViewHDF5 ['time_stamp', 'voxel_color', 'voxel_removed']>\n",
      "(13657,)\n",
      "(13657, 4)\n",
      "(13657, 3)\n",
      "True\n"
     ]
    }
   ],
   "source": [
    "data = f['data']\n",
    "print('Data keys', data.keys())\n",
    "# print((data['depth'][()]).shape)\n",
    "# print((data['l_img'][()]).shape)\n",
    "# print((data['pose_main_camera'][()]).shape)\n",
    "print((data['pose_mastoidectomy_drill'][()]).shape)\n",
    "# print((data['r_img'][()]).shape)\n",
    "print((data['segm'][()]).shape)\n",
    "print((data['time'][()]).shape)\n",
    "\n",
    "# Not necessary for our purposes\n",
    "\n",
    "# b_cg = f['burr_change']\n",
    "# print('Burr Change keys', b_cg.keys())\n",
    "\n",
    "# meta = f['metadata']\n",
    "# print('Metadata keys', meta.keys())\n",
    "# print((meta['README'][()]))\n",
    "\n",
    "v_rm = f['voxels_removed']\n",
    "print('Voxels Removed keys', v_rm.keys())\n",
    "print((v_rm['time_stamp'][()]).shape)\n",
    "print((v_rm['voxel_color'][()]).shape)\n",
    "print((v_rm['voxel_removed'][()]).shape)\n",
    "\n",
    "# # Time differences between either time stamps unequal\n",
    "\n",
    "# print((data['time'][1]) - (data['time'][0]))\n",
    "# print((data['time'][435]) - (data['time'][434]))\n",
    "# print((v_rm['time_stamp'][1]) - (v_rm['time_stamp'][0]))\n",
    "# print((v_rm['time_stamp'][435]) - (v_rm['time_stamp'][434]))\n",
    "\n",
    "# print(min(data['time'][()]), max(data['time'][()]))\n",
    "\n",
    "print(min(data['time'][()]) == min(data['time'][()]))"
   ]
  },
  {
   "cell_type": "markdown",
   "metadata": {},
   "source": [
    "Function implementation"
   ]
  },
  {
   "cell_type": "code",
   "execution_count": 144,
   "metadata": {},
   "outputs": [
    {
     "name": "stdout",
     "output_type": "stream",
     "text": [
      "24\n"
     ]
    }
   ],
   "source": [
    "def get_strokes(stream: np.ndarray, timepts: np.ndarray, k=2):\n",
    "    stream = stream[:, :3]\n",
    "    X_P = []\n",
    "\n",
    "    # Compute k-cosines for each pivot point\n",
    "    for j,P in enumerate(stream):\n",
    "        \n",
    "        # Cannot consider edge points as central k's\n",
    "        if (j - k < 0) or (j + k >= stream.shape[0]):\n",
    "            continue\n",
    "\n",
    "        P_a = stream[j - k]\n",
    "        P_c = stream[j + k]\n",
    "\n",
    "        k_cos = np.dot(P_a, P_c) / (np.linalg.norm(P_a) * np.linalg.norm(P_c))\n",
    "        k_cos = max(min(k_cos, 1), -1)\n",
    "        X_P.append(180 - (math.acos(k_cos) * (180/np.pi)))\n",
    "\n",
    "    # Detect pivot points\n",
    "    mu = np.mean(X_P)\n",
    "    sig = np.std(X_P)\n",
    "\n",
    "    for i in range(k):\n",
    "        X_P.insert(0, mu)\n",
    "        X_P.append(mu)\n",
    "\n",
    "    X_P = np.array(X_P)\n",
    "\n",
    "    F_c = [1 if x_P > mu + sig else 0 for x_P in X_P]\n",
    "\n",
    "    print(sum(F_c))\n",
    "\n",
    "get_strokes((data['pose_mastoidectomy_drill'][()]), (data['time'][()]))"
   ]
  }
 ],
 "metadata": {
  "interpreter": {
   "hash": "ba4b06a3f1ced55e901636c89005dc280628d44375424d70300ad05d2cacd8bb"
  },
  "kernelspec": {
   "display_name": "Python 3.8.8 ('base')",
   "language": "python",
   "name": "python3"
  },
  "language_info": {
   "codemirror_mode": {
    "name": "ipython",
    "version": 3
   },
   "file_extension": ".py",
   "mimetype": "text/x-python",
   "name": "python",
   "nbconvert_exporter": "python",
   "pygments_lexer": "ipython3",
   "version": "3.8.8"
  },
  "orig_nbformat": 4
 },
 "nbformat": 4,
 "nbformat_minor": 2
}
