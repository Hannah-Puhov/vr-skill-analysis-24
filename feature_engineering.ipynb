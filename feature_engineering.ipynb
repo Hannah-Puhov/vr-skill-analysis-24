{
 "cells": [
  {
   "cell_type": "markdown",
   "metadata": {},
   "source": [
    "Basic file reading and data exploration"
   ]
  },
  {
   "cell_type": "code",
   "execution_count": 124,
   "metadata": {},
   "outputs": [
    {
     "name": "stdout",
     "output_type": "stream",
     "text": [
      "File keys <KeysViewHDF5 ['burr_change', 'data', 'force', 'metadata', 'voxels_removed']>\n",
      "<class 'h5py._hl.files.File'>\n"
     ]
    }
   ],
   "source": [
    "import h5py\n",
    "import numpy as np\n",
    "import math\n",
    "from scipy.spatial.transform import Rotation as R\n",
    "\n",
    "# fname = 'd4/20220302_131424.hdf5'\n",
    "# fname = '20220408_191041.hdf5'\n",
    "# fname = '20220408_210049.hdf5' # 3 strokes\n",
    "# fname = '20220409_184944.hdf5' # perpendicular drill angle\n",
    "# fname = '20220409_185037.hdf5' # varying drill angle\n",
    "\n",
    "# fname = 'Angles/45deg.hdf5' # 45 degree drill angle\n",
    "fname = 'Angles/90deg.hdf5' # 90 degree drill angle\n",
    "# fname = 'Angles/random.hdf5' # random drill angle\n",
    "\n",
    "f = h5py.File(fname, 'r')\n",
    "print('File keys', f.keys())\n",
    "print(type(f))"
   ]
  },
  {
   "cell_type": "code",
   "execution_count": 125,
   "metadata": {},
   "outputs": [
    {
     "name": "stdout",
     "output_type": "stream",
     "text": [
      "Data keys <KeysViewHDF5 ['depth', 'l_img', 'pose_main_camera', 'pose_mastoidectomy_drill', 'r_img', 'segm', 'time']>\n",
      "(117, 7)\n",
      "(117, 480, 640, 3)\n",
      "(117,)\n",
      "Force keys <KeysViewHDF5 ['time_stamp', 'wrench']>\n",
      "(49581,)\n",
      "(49581, 3)\n",
      "Voxels Removed keys <KeysViewHDF5 ['time_stamp', 'voxel_color', 'voxel_removed']>\n",
      "(14813,)\n",
      "(14813, 4)\n",
      "(14813, 3)\n",
      "True\n"
     ]
    }
   ],
   "source": [
    "data = f['data']\n",
    "print('Data keys', data.keys())\n",
    "# print((data['depth'][()]).shape)\n",
    "# print((data['l_img'][()]).shape)\n",
    "# print((data['pose_main_camera'][()]).shape)\n",
    "print((data['pose_mastoidectomy_drill'][()]).shape)\n",
    "# print((data['r_img'][()]).shape)\n",
    "print((data['segm'][()]).shape)\n",
    "print((data['time'][()]).shape)\n",
    "\n",
    "# Not necessary for our purposes\n",
    "\n",
    "# b_cg = f['burr_change']\n",
    "# print('Burr Change keys', b_cg.keys())\n",
    "\n",
    "# meta = f['metadata']\n",
    "# print('Metadata keys', meta.keys())\n",
    "# print((meta['README'][()]))\n",
    "\n",
    "force = f['force']\n",
    "print('Force keys', force.keys())\n",
    "print((force['time_stamp'][()]).shape)\n",
    "print((force['wrench'][()]).shape)\n",
    "\n",
    "v_rm = f['voxels_removed']\n",
    "print('Voxels Removed keys', v_rm.keys())\n",
    "print((v_rm['time_stamp'][()]).shape)\n",
    "print((v_rm['voxel_color'][()]).shape)\n",
    "print((v_rm['voxel_removed'][()]).shape)\n",
    "\n",
    "# # Time differences between either time stamps unequal\n",
    "\n",
    "# print((data['time'][1]) - (data['time'][0]))\n",
    "# print((data['time'][435]) - (data['time'][434]))\n",
    "# print((v_rm['time_stamp'][1]) - (v_rm['time_stamp'][0]))\n",
    "# print((v_rm['time_stamp'][435]) - (v_rm['time_stamp'][434]))\n",
    "\n",
    "# print(min(data['time'][()]), max(data['time'][()]))\n",
    "\n",
    "print(min(data['time'][()]) == min(data['time'][()]))"
   ]
  },
  {
   "cell_type": "markdown",
   "metadata": {},
   "source": [
    "Function implementation"
   ]
  },
  {
   "cell_type": "code",
   "execution_count": 126,
   "metadata": {},
   "outputs": [],
   "source": [
    "def get_strokes(stream: np.ndarray, timepts: np.ndarray, k=6):\n",
    "    stream = stream[:, :3]\n",
    "    X_P = []\n",
    "\n",
    "    # Compute k-cosines for each pivot point\n",
    "    for j,P in enumerate(stream):\n",
    "        \n",
    "        # Cannot consider edge points as central k's\n",
    "        if (j - k < 0) or (j + k >= stream.shape[0]):\n",
    "            continue\n",
    "\n",
    "        P_a = stream[j - k]\n",
    "        P_c = stream[j + k]\n",
    "\n",
    "        k_cos = np.dot(P_a, P_c) / (np.linalg.norm(P_a) * np.linalg.norm(P_c))\n",
    "        k_cos = max(min(k_cos, 1), -1)\n",
    "        X_P.append(180 - (math.acos(k_cos) * (180/np.pi)))\n",
    "\n",
    "    # Detect pivot points\n",
    "    mu = np.mean(X_P)\n",
    "    sig = np.std(X_P)\n",
    "\n",
    "    for i in range(k):\n",
    "        \n",
    "        X_P.insert(0, mu)\n",
    "        X_P.append(mu)\n",
    "\n",
    "    X_P = np.array(X_P)\n",
    "\n",
    "    F_c = [1 if x_P > mu + sig else 0 for x_P in X_P]\n",
    "\n",
    "    j = 0\n",
    "    for i in range(1, len(F_c)):\n",
    "\n",
    "        if F_c[i] == 1 and F_c[i-1] == 0:\n",
    "            j += 1\n",
    "        elif sum(F_c[i:i+k]) == 0 and j != 0:\n",
    "            ind = math.floor(j/2)\n",
    "            F_c[i-j:i] = [0] * j\n",
    "            F_c[i-ind] = 1\n",
    "            j = 0\n",
    "        elif j != 0:\n",
    "            j += 1\n",
    "\n",
    "    st = np.insert(timepts[[s == 1 for s in F_c]], 0, min(timepts))\n",
    "\n",
    "    return F_c, st\n",
    "\n",
    "strokes, stroke_times = get_strokes(data['pose_mastoidectomy_drill'][()], data['time'][()])"
   ]
  },
  {
   "cell_type": "code",
   "execution_count": 127,
   "metadata": {},
   "outputs": [],
   "source": [
    "def stats_per_stroke(stroke_arr: np.ndarray):\n",
    "    \n",
    "    mean = np.mean(stroke_arr)\n",
    "    med_ = np.median(stroke_arr)\n",
    "    max_ = np.max(stroke_arr)\n",
    "\n",
    "    return mean, med_, max_"
   ]
  },
  {
   "cell_type": "code",
   "execution_count": 128,
   "metadata": {},
   "outputs": [
    {
     "data": {
      "text/plain": [
       "array([0.        , 0.        , 0.        , 0.17338839])"
      ]
     },
     "execution_count": 128,
     "metadata": {},
     "output_type": "execute_result"
    }
   ],
   "source": [
    "def stroke_force(strokes: np.ndarray, stroke_times: np.ndarray,\n",
    "                force_stream: np.ndarray, force_times: np.ndarray):\n",
    "\n",
    "    avg_stroke_force = []\n",
    "    for i in range(sum(strokes)):\n",
    "\n",
    "        stroke_mask = [ft >= stroke_times[i] and ft < stroke_times[i+1] for ft in force_times]\n",
    "        stroke_forces = np.linalg.norm(force_stream[stroke_mask], axis=1)\n",
    "        avg_stroke_force.append(np.mean(stroke_forces))\n",
    "\n",
    "    return np.array(avg_stroke_force)\n",
    "    \n",
    "\n",
    "stroke_force(strokes, stroke_times, force['wrench'][()], force['time_stamp'][()])"
   ]
  },
  {
   "cell_type": "code",
   "execution_count": 129,
   "metadata": {},
   "outputs": [
    {
     "data": {
      "text/plain": [
       "array([1.33645189e-05, 5.28233733e-02, 4.69498310e-02, 1.10024546e-01])"
      ]
     },
     "execution_count": 129,
     "metadata": {},
     "output_type": "execute_result"
    }
   ],
   "source": [
    "def stroke_length(strokes: np.ndarray, stream: np.ndarray):\n",
    "\n",
    "    stream = stream[:, :3]\n",
    "    \n",
    "    lens = []\n",
    "    inds = np.insert(np.where(strokes == 1), 0, 0)\n",
    "    for i in range(sum(strokes)):\n",
    "        stroke_len = 0\n",
    "        curr_stroke = stream[inds[i]:inds[i+1]]\n",
    "        for j in range(1, len(curr_stroke)):\n",
    "\n",
    "            stroke_len += np.linalg.norm(curr_stroke[j-1] - curr_stroke[j])\n",
    "\n",
    "        lens.append(stroke_len)\n",
    "\n",
    "    return np.array(lens)\n",
    "\n",
    "stroke_length(np.array(strokes), data['pose_mastoidectomy_drill'][()])"
   ]
  },
  {
   "cell_type": "code",
   "execution_count": 130,
   "metadata": {},
   "outputs": [
    {
     "data": {
      "text/plain": [
       "array([    0.        ,     0.        ,     0.        , 79427.73075289])"
      ]
     },
     "execution_count": 130,
     "metadata": {},
     "output_type": "execute_result"
    }
   ],
   "source": [
    "def bone_removal_rate(strokes: np.ndarray, stroke_times: np.ndarray,\n",
    "                        stream: np.ndarray, voxel_times: np.ndarray):\n",
    "    \n",
    "    vox_rm = []\n",
    "    for i in range(sum(strokes)):\n",
    "\n",
    "        stroke_voxels = [vt >= stroke_times[i] and vt < stroke_times[i+1] for vt in voxel_times]\n",
    "        vox_rm.append(sum(stroke_voxels))\n",
    "\n",
    "    rate = np.divide(np.array(vox_rm), stroke_length(np.array(strokes), stream))\n",
    "\n",
    "    return rate\n",
    "\n",
    "bone_removal_rate(strokes, stroke_times, data['pose_mastoidectomy_drill'][()], v_rm['time_stamp'][()])"
   ]
  },
  {
   "cell_type": "code",
   "execution_count": 131,
   "metadata": {},
   "outputs": [
    {
     "data": {
      "text/plain": [
       "49.412348985672"
      ]
     },
     "execution_count": 131,
     "metadata": {},
     "output_type": "execute_result"
    }
   ],
   "source": [
    "def procedure_duration(timepts: np.ndarray):\n",
    "    return (max(timepts) - min(timepts))\n",
    "\n",
    "procedure_duration(data['time'][()])"
   ]
  },
  {
   "cell_type": "code",
   "execution_count": 154,
   "metadata": {},
   "outputs": [
    {
     "data": {
      "image/png": "[encoded data removed]",
      "text/plain": [
       "<Figure size 432x288 with 1 Axes>"
      ]
     },
     "metadata": {
      "needs_background": "light"
     },
     "output_type": "display_data"
    }
   ],
   "source": [
    "import matplotlib.pyplot as plt\n",
    "\n",
    "\n",
    "def drill_orientation(stream: np.ndarray, timepts: np.ndarray,\n",
    "                      voxels: np.ndarray, voxel_times: np.ndarray):\n",
    "    \n",
    "    \n",
    "    \n",
    "    angles = []\n",
    "    normals = []\n",
    "    drill_vecs = []\n",
    "    for i,t in enumerate(timepts):\n",
    "        ind = np.argmin(np.abs(voxel_times - t))\n",
    "        if np.isclose(np.abs(voxel_times[ind] - t), 0):\n",
    "            # print(sum([np.isclose(np.abs(v - voxel_times[ind]), 0) for v in voxel_times]))\n",
    "            # if sum([np.isclose(v - voxel_times[ind], 0) for v in voxel_times]) >= 3:\n",
    "            #     print(ind)\n",
    "            #     print('howdy')\n",
    "            #     return\n",
    "\n",
    "            # Just use three closest\n",
    "            ind2 = 0\n",
    "            ind3 = 0\n",
    "            if ind < len(voxel_times) - 15:\n",
    "                ind2 = ind+1\n",
    "                ind3 = ind+2\n",
    "            elif ind > 1:\n",
    "                ind2 = ind-1\n",
    "                ind3 = ind-2\n",
    "\n",
    "            x0, y0, z0 = voxels[ind]\n",
    "\n",
    "            min_dist = np.inf\n",
    "            for j in range(len(voxels)):\n",
    "                curr_dist = np.linalg.norm(voxels[ind] - voxels[i])\n",
    "                if curr_dist < min_dist:\n",
    "                    ind2 = i\n",
    "                    min_dist = curr_dist\n",
    "\n",
    "            x1, y1, z1 = voxels[ind2]\n",
    "\n",
    "            min_dist = np.inf\n",
    "            for j in range(len(voxels)):\n",
    "                curr_dist1 = np.linalg.norm(voxels[ind] - voxels[i])\n",
    "                curr_dist2 = np.linalg.norm(voxels[ind2] - voxels[i])\n",
    "                if (curr_dist1 + curr_dist2) < min_dist and (i != ind2):\n",
    "                    ind3 = i\n",
    "                    min_dist = curr_dist\n",
    "\n",
    "            x2, y2, z2 = voxels[ind3]\n",
    "\n",
    "            ux, uy, uz = [x1-x0, y1-y0, z1-z0]\n",
    "            vx, vy, vz = [x2-x0, y2-y0, z2-z0]\n",
    "\n",
    "            u_cross_v = [uy*vz-uz*vy, uz*vx-ux*vz, ux*vy-uy*vx]\n",
    "            normal = np.array(u_cross_v)\n",
    "\n",
    "            v = R.from_quat(stream[i, 3:]).apply([np.cos(0.9), np.sin(0.9), 0])\n",
    "            v = np.divide(v, np.linalg.norm(v))\n",
    "\n",
    "            normals.append(normal)\n",
    "            drill_vecs.append(v)\n",
    "\n",
    "            fig = plt.figure()\n",
    "            ax = fig.add_subplot(111, projection='3d')\n",
    "\n",
    "            soa = np.array([np.insert(normal, 0, (0, 0, 0)), np.insert(normal, 0, (0, 0, 0))])\n",
    "\n",
    "            X, Y, Z, U, V, W = zip(*soa)\n",
    "            ax.quiver(X, Y, Z, U, V, W)\n",
    "            ax.set_xlim([-1, 1])\n",
    "            ax.set_ylim([-1, 1])\n",
    "            ax.set_zlim([-1, 1])\n",
    "            ax.set_xlabel('x')\n",
    "            ax.set_ylabel('y')\n",
    "            ax.set_zlabel('z')\n",
    "\n",
    "            plt.show()\n",
    "            return\n",
    "    # normal = np.mean(normals, axis=0)\n",
    "    normal = np.divide(normal, np.linalg.norm(normal))\n",
    "\n",
    "    for v in drill_vecs:\n",
    "\n",
    "        fig = plt.figure()\n",
    "        ax = fig.add_subplot(111, projection='3d')\n",
    "\n",
    "        soa = np.array([np.insert(normal, 0, (0, 0, 0)), np.insert(v, 0, (0, 0, 0))])\n",
    "\n",
    "        X, Y, Z, U, V, W = zip(*soa)\n",
    "        ax.quiver(X, Y, Z, U, V, W)\n",
    "        ax.set_xlim([-1, 1])\n",
    "        ax.set_ylim([-1, 1])\n",
    "        ax.set_zlim([-1, 1])\n",
    "        ax.set_xlabel('x')\n",
    "        ax.set_ylabel('y')\n",
    "        ax.set_zlabel('z')\n",
    "\n",
    "        plt.show()\n",
    "\n",
    "        angle = np.arccos(np.clip(np.dot(v, normal), -1.0, 1.0)) * (180/np.pi)\n",
    "        print(90 - angle)\n",
    "        print()\n",
    "        if angle > 90:\n",
    "            angle = 180 - angle\n",
    "        angles.append(90 - angle)\n",
    "\n",
    "    print(np.mean(angles))\n",
    "    return angles\n",
    "\n",
    "drill_orientation(data['pose_mastoidectomy_drill'][()], data['time'][()], v_rm['voxel_removed'][()], v_rm['time_stamp'][()])"
   ]
  },
  {
   "cell_type": "code",
   "execution_count": 133,
   "metadata": {},
   "outputs": [
    {
     "name": "stderr",
     "output_type": "stream",
     "text": [
      "/Users/alexandraszewc/opt/anaconda3/lib/python3.8/site-packages/cffi/cparser.py:154: UserWarning: String literal found in cdef() or type source. String literals are ignored here, but you should remove them anyway because some character sequences confuse pre-parsing.\n",
      "  warnings.warn(\"String literal found in cdef() or type source. \"\n"
     ]
    },
    {
     "ename": "CDefError",
     "evalue": "cannot parse \"#include <iostream>\"\n<cdef source string>:1:1: Directives not supported yet",
     "output_type": "error",
     "traceback": [
      "\u001b[0;31m---------------------------------------------------------------------------\u001b[0m",
      "\u001b[0;31mParseError\u001b[0m                                Traceback (most recent call last)",
      "\u001b[0;32m~/opt/anaconda3/lib/python3.8/site-packages/cffi/cparser.py\u001b[0m in \u001b[0;36m_parse\u001b[0;34m(self, csource)\u001b[0m\n\u001b[1;32m    335\u001b[0m         \u001b[0;32mtry\u001b[0m\u001b[0;34m:\u001b[0m\u001b[0;34m\u001b[0m\u001b[0;34m\u001b[0m\u001b[0m\n\u001b[0;32m--> 336\u001b[0;31m             \u001b[0mast\u001b[0m \u001b[0;34m=\u001b[0m \u001b[0m_get_parser\u001b[0m\u001b[0;34m(\u001b[0m\u001b[0;34m)\u001b[0m\u001b[0;34m.\u001b[0m\u001b[0mparse\u001b[0m\u001b[0;34m(\u001b[0m\u001b[0mfullcsource\u001b[0m\u001b[0;34m)\u001b[0m\u001b[0;34m\u001b[0m\u001b[0;34m\u001b[0m\u001b[0m\n\u001b[0m\u001b[1;32m    337\u001b[0m         \u001b[0;32mexcept\u001b[0m \u001b[0mpycparser\u001b[0m\u001b[0;34m.\u001b[0m\u001b[0mc_parser\u001b[0m\u001b[0;34m.\u001b[0m\u001b[0mParseError\u001b[0m \u001b[0;32mas\u001b[0m \u001b[0me\u001b[0m\u001b[0;34m:\u001b[0m\u001b[0;34m\u001b[0m\u001b[0;34m\u001b[0m\u001b[0m\n",
      "\u001b[0;32m~/opt/anaconda3/lib/python3.8/site-packages/pycparser/c_parser.py\u001b[0m in \u001b[0;36mparse\u001b[0;34m(self, text, filename, debuglevel)\u001b[0m\n\u001b[1;32m    148\u001b[0m         \u001b[0mself\u001b[0m\u001b[0;34m.\u001b[0m\u001b[0m_last_yielded_token\u001b[0m \u001b[0;34m=\u001b[0m \u001b[0;32mNone\u001b[0m\u001b[0;34m\u001b[0m\u001b[0;34m\u001b[0m\u001b[0m\n\u001b[0;32m--> 149\u001b[0;31m         return self.cparser.parse(\n\u001b[0m\u001b[1;32m    150\u001b[0m                 \u001b[0minput\u001b[0m\u001b[0;34m=\u001b[0m\u001b[0mtext\u001b[0m\u001b[0;34m,\u001b[0m\u001b[0;34m\u001b[0m\u001b[0;34m\u001b[0m\u001b[0m\n",
      "\u001b[0;32m~/opt/anaconda3/lib/python3.8/site-packages/pycparser/ply/yacc.py\u001b[0m in \u001b[0;36mparse\u001b[0;34m(self, input, lexer, debug, tracking, tokenfunc)\u001b[0m\n\u001b[1;32m    330\u001b[0m         \u001b[0;32melse\u001b[0m\u001b[0;34m:\u001b[0m\u001b[0;34m\u001b[0m\u001b[0;34m\u001b[0m\u001b[0m\n\u001b[0;32m--> 331\u001b[0;31m             \u001b[0;32mreturn\u001b[0m \u001b[0mself\u001b[0m\u001b[0;34m.\u001b[0m\u001b[0mparseopt_notrack\u001b[0m\u001b[0;34m(\u001b[0m\u001b[0minput\u001b[0m\u001b[0;34m,\u001b[0m \u001b[0mlexer\u001b[0m\u001b[0;34m,\u001b[0m \u001b[0mdebug\u001b[0m\u001b[0;34m,\u001b[0m \u001b[0mtracking\u001b[0m\u001b[0;34m,\u001b[0m \u001b[0mtokenfunc\u001b[0m\u001b[0;34m)\u001b[0m\u001b[0;34m\u001b[0m\u001b[0;34m\u001b[0m\u001b[0m\n\u001b[0m\u001b[1;32m    332\u001b[0m \u001b[0;34m\u001b[0m\u001b[0m\n",
      "\u001b[0;32m~/opt/anaconda3/lib/python3.8/site-packages/pycparser/ply/yacc.py\u001b[0m in \u001b[0;36mparseopt_notrack\u001b[0;34m(self, input, lexer, debug, tracking, tokenfunc)\u001b[0m\n\u001b[1;32m   1117\u001b[0m                             \u001b[0mself\u001b[0m\u001b[0;34m.\u001b[0m\u001b[0mstate\u001b[0m \u001b[0;34m=\u001b[0m \u001b[0mstate\u001b[0m\u001b[0;34m\u001b[0m\u001b[0;34m\u001b[0m\u001b[0m\n\u001b[0;32m-> 1118\u001b[0;31m                             \u001b[0mp\u001b[0m\u001b[0;34m.\u001b[0m\u001b[0mcallable\u001b[0m\u001b[0;34m(\u001b[0m\u001b[0mpslice\u001b[0m\u001b[0;34m)\u001b[0m\u001b[0;34m\u001b[0m\u001b[0;34m\u001b[0m\u001b[0m\n\u001b[0m\u001b[1;32m   1119\u001b[0m                             \u001b[0;32mdel\u001b[0m \u001b[0mstatestack\u001b[0m\u001b[0;34m[\u001b[0m\u001b[0;34m-\u001b[0m\u001b[0mplen\u001b[0m\u001b[0;34m:\u001b[0m\u001b[0;34m]\u001b[0m\u001b[0;34m\u001b[0m\u001b[0;34m\u001b[0m\u001b[0m\n",
      "\u001b[0;32m~/opt/anaconda3/lib/python3.8/site-packages/pycparser/c_parser.py\u001b[0m in \u001b[0;36mp_pp_directive\u001b[0;34m(self, p)\u001b[0m\n\u001b[1;32m    563\u001b[0m         \"\"\"\n\u001b[0;32m--> 564\u001b[0;31m         self._parse_error('Directives not supported yet',\n\u001b[0m\u001b[1;32m    565\u001b[0m                           self._token_coord(p, 1))\n",
      "\u001b[0;32m~/opt/anaconda3/lib/python3.8/site-packages/pycparser/plyparser.py\u001b[0m in \u001b[0;36m_parse_error\u001b[0;34m(self, msg, coord)\u001b[0m\n\u001b[1;32m     66\u001b[0m     \u001b[0;32mdef\u001b[0m \u001b[0m_parse_error\u001b[0m\u001b[0;34m(\u001b[0m\u001b[0mself\u001b[0m\u001b[0;34m,\u001b[0m \u001b[0mmsg\u001b[0m\u001b[0;34m,\u001b[0m \u001b[0mcoord\u001b[0m\u001b[0;34m)\u001b[0m\u001b[0;34m:\u001b[0m\u001b[0;34m\u001b[0m\u001b[0;34m\u001b[0m\u001b[0m\n\u001b[0;32m---> 67\u001b[0;31m         \u001b[0;32mraise\u001b[0m \u001b[0mParseError\u001b[0m\u001b[0;34m(\u001b[0m\u001b[0;34m\"%s: %s\"\u001b[0m \u001b[0;34m%\u001b[0m \u001b[0;34m(\u001b[0m\u001b[0mcoord\u001b[0m\u001b[0;34m,\u001b[0m \u001b[0mmsg\u001b[0m\u001b[0;34m)\u001b[0m\u001b[0;34m)\u001b[0m\u001b[0;34m\u001b[0m\u001b[0;34m\u001b[0m\u001b[0m\n\u001b[0m\u001b[1;32m     68\u001b[0m \u001b[0;34m\u001b[0m\u001b[0m\n",
      "\u001b[0;31mParseError\u001b[0m: <cdef source string>:1:1: Directives not supported yet",
      "\nDuring handling of the above exception, another exception occurred:\n",
      "\u001b[0;31mCDefError\u001b[0m                                 Traceback (most recent call last)",
      "\u001b[0;32m<ipython-input-133-55a9a805314b>\u001b[0m in \u001b[0;36m<module>\u001b[0;34m\u001b[0m\n\u001b[1;32m      8\u001b[0m \u001b[0mh_file_name\u001b[0m \u001b[0;34m=\u001b[0m \u001b[0mthis_dir\u001b[0m \u001b[0;34m/\u001b[0m \u001b[0;34m\"EdtReader/EdtReader.h\"\u001b[0m\u001b[0;34m\u001b[0m\u001b[0;34m\u001b[0m\u001b[0m\n\u001b[1;32m      9\u001b[0m \u001b[0;32mwith\u001b[0m \u001b[0mopen\u001b[0m\u001b[0;34m(\u001b[0m\u001b[0mh_file_name\u001b[0m\u001b[0;34m)\u001b[0m \u001b[0;32mas\u001b[0m \u001b[0mh_file\u001b[0m\u001b[0;34m:\u001b[0m\u001b[0;34m\u001b[0m\u001b[0;34m\u001b[0m\u001b[0m\n\u001b[0;32m---> 10\u001b[0;31m     \u001b[0mffi\u001b[0m\u001b[0;34m.\u001b[0m\u001b[0mcdef\u001b[0m\u001b[0;34m(\u001b[0m\u001b[0mh_file\u001b[0m\u001b[0;34m.\u001b[0m\u001b[0mread\u001b[0m\u001b[0;34m(\u001b[0m\u001b[0;34m)\u001b[0m\u001b[0;34m)\u001b[0m\u001b[0;34m\u001b[0m\u001b[0;34m\u001b[0m\u001b[0m\n\u001b[0m\u001b[1;32m     11\u001b[0m \u001b[0;34m\u001b[0m\u001b[0m\n\u001b[1;32m     12\u001b[0m ffi.set_source(\n",
      "\u001b[0;32m~/opt/anaconda3/lib/python3.8/site-packages/cffi/api.py\u001b[0m in \u001b[0;36mcdef\u001b[0;34m(self, csource, override, packed, pack)\u001b[0m\n\u001b[1;32m    110\u001b[0m         packed=True).\n\u001b[1;32m    111\u001b[0m         \"\"\"\n\u001b[0;32m--> 112\u001b[0;31m         \u001b[0mself\u001b[0m\u001b[0;34m.\u001b[0m\u001b[0m_cdef\u001b[0m\u001b[0;34m(\u001b[0m\u001b[0mcsource\u001b[0m\u001b[0;34m,\u001b[0m \u001b[0moverride\u001b[0m\u001b[0;34m=\u001b[0m\u001b[0moverride\u001b[0m\u001b[0;34m,\u001b[0m \u001b[0mpacked\u001b[0m\u001b[0;34m=\u001b[0m\u001b[0mpacked\u001b[0m\u001b[0;34m,\u001b[0m \u001b[0mpack\u001b[0m\u001b[0;34m=\u001b[0m\u001b[0mpack\u001b[0m\u001b[0;34m)\u001b[0m\u001b[0;34m\u001b[0m\u001b[0;34m\u001b[0m\u001b[0m\n\u001b[0m\u001b[1;32m    113\u001b[0m \u001b[0;34m\u001b[0m\u001b[0m\n\u001b[1;32m    114\u001b[0m     \u001b[0;32mdef\u001b[0m \u001b[0membedding_api\u001b[0m\u001b[0;34m(\u001b[0m\u001b[0mself\u001b[0m\u001b[0;34m,\u001b[0m \u001b[0mcsource\u001b[0m\u001b[0;34m,\u001b[0m \u001b[0mpacked\u001b[0m\u001b[0;34m=\u001b[0m\u001b[0;32mFalse\u001b[0m\u001b[0;34m,\u001b[0m \u001b[0mpack\u001b[0m\u001b[0;34m=\u001b[0m\u001b[0;32mNone\u001b[0m\u001b[0;34m)\u001b[0m\u001b[0;34m:\u001b[0m\u001b[0;34m\u001b[0m\u001b[0;34m\u001b[0m\u001b[0m\n",
      "\u001b[0;32m~/opt/anaconda3/lib/python3.8/site-packages/cffi/api.py\u001b[0m in \u001b[0;36m_cdef\u001b[0;34m(self, csource, override, **options)\u001b[0m\n\u001b[1;32m    124\u001b[0m         \u001b[0;32mwith\u001b[0m \u001b[0mself\u001b[0m\u001b[0;34m.\u001b[0m\u001b[0m_lock\u001b[0m\u001b[0;34m:\u001b[0m\u001b[0;34m\u001b[0m\u001b[0;34m\u001b[0m\u001b[0m\n\u001b[1;32m    125\u001b[0m             \u001b[0mself\u001b[0m\u001b[0;34m.\u001b[0m\u001b[0m_cdef_version\u001b[0m \u001b[0;34m=\u001b[0m \u001b[0mobject\u001b[0m\u001b[0;34m(\u001b[0m\u001b[0;34m)\u001b[0m\u001b[0;34m\u001b[0m\u001b[0;34m\u001b[0m\u001b[0m\n\u001b[0;32m--> 126\u001b[0;31m             \u001b[0mself\u001b[0m\u001b[0;34m.\u001b[0m\u001b[0m_parser\u001b[0m\u001b[0;34m.\u001b[0m\u001b[0mparse\u001b[0m\u001b[0;34m(\u001b[0m\u001b[0mcsource\u001b[0m\u001b[0;34m,\u001b[0m \u001b[0moverride\u001b[0m\u001b[0;34m=\u001b[0m\u001b[0moverride\u001b[0m\u001b[0;34m,\u001b[0m \u001b[0;34m**\u001b[0m\u001b[0moptions\u001b[0m\u001b[0;34m)\u001b[0m\u001b[0;34m\u001b[0m\u001b[0;34m\u001b[0m\u001b[0m\n\u001b[0m\u001b[1;32m    127\u001b[0m             \u001b[0mself\u001b[0m\u001b[0;34m.\u001b[0m\u001b[0m_cdefsources\u001b[0m\u001b[0;34m.\u001b[0m\u001b[0mappend\u001b[0m\u001b[0;34m(\u001b[0m\u001b[0mcsource\u001b[0m\u001b[0;34m)\u001b[0m\u001b[0;34m\u001b[0m\u001b[0;34m\u001b[0m\u001b[0m\n\u001b[1;32m    128\u001b[0m             \u001b[0;32mif\u001b[0m \u001b[0moverride\u001b[0m\u001b[0;34m:\u001b[0m\u001b[0;34m\u001b[0m\u001b[0;34m\u001b[0m\u001b[0m\n",
      "\u001b[0;32m~/opt/anaconda3/lib/python3.8/site-packages/cffi/cparser.py\u001b[0m in \u001b[0;36mparse\u001b[0;34m(self, csource, override, packed, pack, dllexport)\u001b[0m\n\u001b[1;32m    387\u001b[0m                              \u001b[0;34m'packed'\u001b[0m\u001b[0;34m:\u001b[0m \u001b[0mpack\u001b[0m\u001b[0;34m,\u001b[0m\u001b[0;34m\u001b[0m\u001b[0;34m\u001b[0m\u001b[0m\n\u001b[1;32m    388\u001b[0m                              'dllexport': dllexport}\n\u001b[0;32m--> 389\u001b[0;31m             \u001b[0mself\u001b[0m\u001b[0;34m.\u001b[0m\u001b[0m_internal_parse\u001b[0m\u001b[0;34m(\u001b[0m\u001b[0mcsource\u001b[0m\u001b[0;34m)\u001b[0m\u001b[0;34m\u001b[0m\u001b[0;34m\u001b[0m\u001b[0m\n\u001b[0m\u001b[1;32m    390\u001b[0m         \u001b[0;32mfinally\u001b[0m\u001b[0;34m:\u001b[0m\u001b[0;34m\u001b[0m\u001b[0;34m\u001b[0m\u001b[0m\n\u001b[1;32m    391\u001b[0m             \u001b[0mself\u001b[0m\u001b[0;34m.\u001b[0m\u001b[0m_options\u001b[0m \u001b[0;34m=\u001b[0m \u001b[0mprev_options\u001b[0m\u001b[0;34m\u001b[0m\u001b[0;34m\u001b[0m\u001b[0m\n",
      "\u001b[0;32m~/opt/anaconda3/lib/python3.8/site-packages/cffi/cparser.py\u001b[0m in \u001b[0;36m_internal_parse\u001b[0;34m(self, csource)\u001b[0m\n\u001b[1;32m    392\u001b[0m \u001b[0;34m\u001b[0m\u001b[0m\n\u001b[1;32m    393\u001b[0m     \u001b[0;32mdef\u001b[0m \u001b[0m_internal_parse\u001b[0m\u001b[0;34m(\u001b[0m\u001b[0mself\u001b[0m\u001b[0;34m,\u001b[0m \u001b[0mcsource\u001b[0m\u001b[0;34m)\u001b[0m\u001b[0;34m:\u001b[0m\u001b[0;34m\u001b[0m\u001b[0;34m\u001b[0m\u001b[0m\n\u001b[0;32m--> 394\u001b[0;31m         \u001b[0mast\u001b[0m\u001b[0;34m,\u001b[0m \u001b[0mmacros\u001b[0m\u001b[0;34m,\u001b[0m \u001b[0mcsource\u001b[0m \u001b[0;34m=\u001b[0m \u001b[0mself\u001b[0m\u001b[0;34m.\u001b[0m\u001b[0m_parse\u001b[0m\u001b[0;34m(\u001b[0m\u001b[0mcsource\u001b[0m\u001b[0;34m)\u001b[0m\u001b[0;34m\u001b[0m\u001b[0;34m\u001b[0m\u001b[0m\n\u001b[0m\u001b[1;32m    395\u001b[0m         \u001b[0;31m# add the macros\u001b[0m\u001b[0;34m\u001b[0m\u001b[0;34m\u001b[0m\u001b[0;34m\u001b[0m\u001b[0m\n\u001b[1;32m    396\u001b[0m         \u001b[0mself\u001b[0m\u001b[0;34m.\u001b[0m\u001b[0m_process_macros\u001b[0m\u001b[0;34m(\u001b[0m\u001b[0mmacros\u001b[0m\u001b[0;34m)\u001b[0m\u001b[0;34m\u001b[0m\u001b[0;34m\u001b[0m\u001b[0m\n",
      "\u001b[0;32m~/opt/anaconda3/lib/python3.8/site-packages/cffi/cparser.py\u001b[0m in \u001b[0;36m_parse\u001b[0;34m(self, csource)\u001b[0m\n\u001b[1;32m    336\u001b[0m             \u001b[0mast\u001b[0m \u001b[0;34m=\u001b[0m \u001b[0m_get_parser\u001b[0m\u001b[0;34m(\u001b[0m\u001b[0;34m)\u001b[0m\u001b[0;34m.\u001b[0m\u001b[0mparse\u001b[0m\u001b[0;34m(\u001b[0m\u001b[0mfullcsource\u001b[0m\u001b[0;34m)\u001b[0m\u001b[0;34m\u001b[0m\u001b[0;34m\u001b[0m\u001b[0m\n\u001b[1;32m    337\u001b[0m         \u001b[0;32mexcept\u001b[0m \u001b[0mpycparser\u001b[0m\u001b[0;34m.\u001b[0m\u001b[0mc_parser\u001b[0m\u001b[0;34m.\u001b[0m\u001b[0mParseError\u001b[0m \u001b[0;32mas\u001b[0m \u001b[0me\u001b[0m\u001b[0;34m:\u001b[0m\u001b[0;34m\u001b[0m\u001b[0;34m\u001b[0m\u001b[0m\n\u001b[0;32m--> 338\u001b[0;31m             \u001b[0mself\u001b[0m\u001b[0;34m.\u001b[0m\u001b[0mconvert_pycparser_error\u001b[0m\u001b[0;34m(\u001b[0m\u001b[0me\u001b[0m\u001b[0;34m,\u001b[0m \u001b[0mcsource\u001b[0m\u001b[0;34m)\u001b[0m\u001b[0;34m\u001b[0m\u001b[0;34m\u001b[0m\u001b[0m\n\u001b[0m\u001b[1;32m    339\u001b[0m         \u001b[0;32mfinally\u001b[0m\u001b[0;34m:\u001b[0m\u001b[0;34m\u001b[0m\u001b[0;34m\u001b[0m\u001b[0m\n\u001b[1;32m    340\u001b[0m             \u001b[0;32mif\u001b[0m \u001b[0mlock\u001b[0m \u001b[0;32mis\u001b[0m \u001b[0;32mnot\u001b[0m \u001b[0;32mNone\u001b[0m\u001b[0;34m:\u001b[0m\u001b[0;34m\u001b[0m\u001b[0;34m\u001b[0m\u001b[0m\n",
      "\u001b[0;32m~/opt/anaconda3/lib/python3.8/site-packages/cffi/cparser.py\u001b[0m in \u001b[0;36mconvert_pycparser_error\u001b[0;34m(self, e, csource)\u001b[0m\n\u001b[1;32m    365\u001b[0m         \u001b[0;32melse\u001b[0m\u001b[0;34m:\u001b[0m\u001b[0;34m\u001b[0m\u001b[0;34m\u001b[0m\u001b[0m\n\u001b[1;32m    366\u001b[0m             \u001b[0mmsg\u001b[0m \u001b[0;34m=\u001b[0m \u001b[0;34m'parse error\\n%s'\u001b[0m \u001b[0;34m%\u001b[0m \u001b[0;34m(\u001b[0m\u001b[0mmsg\u001b[0m\u001b[0;34m,\u001b[0m\u001b[0;34m)\u001b[0m\u001b[0;34m\u001b[0m\u001b[0;34m\u001b[0m\u001b[0m\n\u001b[0;32m--> 367\u001b[0;31m         \u001b[0;32mraise\u001b[0m \u001b[0mCDefError\u001b[0m\u001b[0;34m(\u001b[0m\u001b[0mmsg\u001b[0m\u001b[0;34m)\u001b[0m\u001b[0;34m\u001b[0m\u001b[0;34m\u001b[0m\u001b[0m\n\u001b[0m\u001b[1;32m    368\u001b[0m \u001b[0;34m\u001b[0m\u001b[0m\n\u001b[1;32m    369\u001b[0m     def parse(self, csource, override=False, packed=False, pack=None,\n",
      "\u001b[0;31mCDefError\u001b[0m: cannot parse \"#include <iostream>\"\n<cdef source string>:1:1: Directives not supported yet"
     ]
    }
   ],
   "source": [
    "import cffi\n",
    "import pathlib\n",
    "\n",
    "\"\"\" Build the CFFI Python bindings \"\"\"\n",
    "ffi = cffi.FFI()\n",
    "\n",
    "this_dir = pathlib.Path().absolute()\n",
    "h_file_name = this_dir / \"EdtReader/EdtReader.h\"\n",
    "with open(h_file_name) as h_file:\n",
    "    ffi.cdef(h_file.read())\n",
    "\n",
    "ffi.set_source(\n",
    "    \"EDTread\",\n",
    "    # Since you're calling a fully-built library directly, no custom source\n",
    "    # is necessary. You need to include the .h files, though, because behind\n",
    "    # the scenes cffi generates a .c file that contains a Python-friendly\n",
    "    # wrapper around each of the functions.\n",
    "    '#include \"EdtReader.h\"',\n",
    "    # The important thing is to include the pre-built lib in the list of\n",
    "    # libraries you're linking against:\n",
    "    libraries=[\"EdtReader\"],\n",
    "    library_dirs=[this_dir.as_posix()],\n",
    "    extra_link_args=[\"-Wl,-rpath,.\"],\n",
    ")\n",
    "\n",
    "ffi.compile()"
   ]
  },
  {
   "cell_type": "code",
   "execution_count": null,
   "metadata": {},
   "outputs": [],
   "source": [
    "import EDTread"
   ]
  }
 ],
 "metadata": {
  "interpreter": {
   "hash": "ba4b06a3f1ced55e901636c89005dc280628d44375424d70300ad05d2cacd8bb"
  },
  "kernelspec": {
   "display_name": "Python 3.8.8 ('base')",
   "language": "python",
   "name": "python3"
  },
  "language_info": {
   "codemirror_mode": {
    "name": "ipython",
    "version": 3
   },
   "file_extension": ".py",
   "mimetype": "text/x-python",
   "name": "python",
   "nbconvert_exporter": "python",
   "pygments_lexer": "ipython3",
   "version": "3.8.8"
  },
  "orig_nbformat": 4
 },
 "nbformat": 4,
 "nbformat_minor": 2
}
